{
 "cells": [
  {
   "cell_type": "markdown",
   "metadata": {},
   "source": [
    "# The Enron Dataset"
   ]
  },
  {
   "cell_type": "markdown",
   "metadata": {},
   "source": [
    "Starter code for exploring the Enron dataset (emails + finances);\n",
    "loads up the dataset (pickled dict of dicts).\n",
    "\n",
    "The dataset has the form:\n",
    "enron_data[\"LASTNAME FIRSTNAME MIDDLEINITIAL\"] = { features_dict }\n",
    "\n",
    "{features_dict} is a dictionary of features associated with that person.\n",
    "You should explore features_dict as part of the mini-project,\n",
    "but here's an example to get you started:\n",
    "\n",
    "enron_data[\"SKILLING JEFFREY K\"][\"bonus\"] = 5600000"
   ]
  },
  {
   "cell_type": "code",
   "execution_count": 4,
   "metadata": {
    "collapsed": true
   },
   "outputs": [],
   "source": [
    "import pickle\n",
    "\n",
    "enron_data = pickle.load(open(\"../final_project/final_project_dataset.pkl\", \"r\"))"
   ]
  },
  {
   "cell_type": "code",
   "execution_count": 6,
   "metadata": {
    "collapsed": false
   },
   "outputs": [
    {
     "name": "stdout",
     "output_type": "stream",
     "text": [
      "Number of people in the dataset = 146\n"
     ]
    }
   ],
   "source": [
    "print 'Number of people in the dataset = %d' % len(enron_data)"
   ]
  },
  {
   "cell_type": "code",
   "execution_count": 7,
   "metadata": {
    "collapsed": false
   },
   "outputs": [
    {
     "name": "stdout",
     "output_type": "stream",
     "text": [
      "Number of features = 21\n"
     ]
    }
   ],
   "source": [
    "print 'Number of features = %d' % len(enron_data['SKILLING JEFFREY K'])"
   ]
  },
  {
   "cell_type": "code",
   "execution_count": 13,
   "metadata": {
    "collapsed": false
   },
   "outputs": [
    {
     "name": "stdout",
     "output_type": "stream",
     "text": [
      "Number of persons of interest = 18\n"
     ]
    }
   ],
   "source": [
    "print 'Number of persons of interest = %d' % len([i for i in enron_data.values() if i['poi'] == True])"
   ]
  },
  {
   "cell_type": "code",
   "execution_count": 57,
   "metadata": {
    "collapsed": false
   },
   "outputs": [
    {
     "name": "stdout",
     "output_type": "stream",
     "text": [
      "The POIs in the file poi_names.txt = 35\n"
     ]
    }
   ],
   "source": [
    "pois = open('../final_project/poi_names.txt', 'r').read().strip().split('\\n')\n",
    "\n",
    "print 'The POIs in the file poi_names.txt = %d' % len(pois[2:])"
   ]
  },
  {
   "cell_type": "code",
   "execution_count": 62,
   "metadata": {
    "collapsed": false
   },
   "outputs": [
    {
     "name": "stdout",
     "output_type": "stream",
     "text": [
      "Total stock value of James Prentice = 1095040\n"
     ]
    }
   ],
   "source": [
    "print 'Total stock value of James Prentice = %d' % enron_data['PRENTICE JAMES']['total_stock_value']"
   ]
  },
  {
   "cell_type": "code",
   "execution_count": 64,
   "metadata": {
    "collapsed": false
   },
   "outputs": [
    {
     "name": "stdout",
     "output_type": "stream",
     "text": [
      "Number of emails from Wesley Colwell to a POI = 11\n"
     ]
    }
   ],
   "source": [
    "print 'Number of emails from Wesley Colwell to a POI = %d' % enron_data['COLWELL WESLEY']['from_this_person_to_poi']"
   ]
  },
  {
   "cell_type": "code",
   "execution_count": 67,
   "metadata": {
    "collapsed": false
   },
   "outputs": [
    {
     "name": "stdout",
     "output_type": "stream",
     "text": [
      "The value of stock options exercised by Jeffrey K Skilling = 19250000\n"
     ]
    }
   ],
   "source": [
    "print 'The value of stock options exercised by Jeffrey K Skilling = %d' % enron_data['SKILLING JEFFREY K']['exercised_stock_options']"
   ]
  },
  {
   "cell_type": "code",
   "execution_count": 8,
   "metadata": {
    "collapsed": false
   },
   "outputs": [
    {
     "name": "stdout",
     "output_type": "stream",
     "text": [
      "Jeffrey Skilling's total payments: 8682716\n",
      "Kenneth Lay's total payments: 103559793\n",
      "Andrew Fastow's total payments: 2424083\n"
     ]
    }
   ],
   "source": [
    "print 'Jeffrey Skilling\\'s total payments: %d' % enron_data['SKILLING JEFFREY K']['total_payments']\n",
    "print 'Kenneth Lay\\'s total payments: %d' % enron_data['LAY KENNETH L']['total_payments']\n",
    "print 'Andrew Fastow\\'s total payments: %d' % enron_data['FASTOW ANDREW S']['total_payments']"
   ]
  },
  {
   "cell_type": "code",
   "execution_count": 13,
   "metadata": {
    "collapsed": false
   },
   "outputs": [
    {
     "name": "stdout",
     "output_type": "stream",
     "text": [
      "Unfilled features are denoted by \"NaN\"\n"
     ]
    }
   ],
   "source": [
    "print 'Unfilled features are denoted by \"%s\"' % enron_data['METTS MARK']['deferral_payments']"
   ]
  },
  {
   "cell_type": "code",
   "execution_count": 25,
   "metadata": {
    "collapsed": false
   },
   "outputs": [
    {
     "name": "stdout",
     "output_type": "stream",
     "text": [
      "People with quantified salary: 95 persons\n",
      "People with known email address: 111 persons\n"
     ]
    }
   ],
   "source": [
    "folks_with_quantified_salary = [i for i in enron_data if enron_data[i]['salary'] != 'NaN']\n",
    "folks_with_known_email_address = [i for i in enron_data if enron_data[i]['email_address'] != 'NaN']\n",
    "print 'People with quantified salary: %d persons' % len(folks_with_quantified_salary)\n",
    "print 'People with known email address: %d persons' % len(folks_with_known_email_address)"
   ]
  },
  {
   "cell_type": "code",
   "execution_count": 39,
   "metadata": {
    "collapsed": false
   },
   "outputs": [
    {
     "name": "stdout",
     "output_type": "stream",
     "text": [
      "Percentage of people with NaN as their total payments: 14.383562%\n"
     ]
    }
   ],
   "source": [
    "people_with_NaN_total_payments = [i for i in enron_data if enron_data[i]['total_payments'] == 'NaN']\n",
    "print 'Percentage of people with NaN as their total payments: %f%%' % \\\n",
    "    (len(people_with_NaN_total_payments) * 100.0 / len(enron_data))"
   ]
  },
  {
   "cell_type": "code",
   "execution_count": 46,
   "metadata": {
    "collapsed": false
   },
   "outputs": [
    {
     "name": "stdout",
     "output_type": "stream",
     "text": [
      "Percentage of POIs with NaN as their total payments: 0.000000%\n"
     ]
    }
   ],
   "source": [
    "pois = {i:enron_data[i] for i in enron_data if enron_data[i]['poi']}\n",
    "pois_with_NaN_total_payments = [i for i in pois if pois[i]['total_payments'] == 'NaN']\n",
    "print 'Percentage of POIs with NaN as their total payments: %f%%' % \\\n",
    "    (len(pois_with_NaN_total_payments) * 100.0 / len(pois))"
   ]
  },
  {
   "cell_type": "code",
   "execution_count": 51,
   "metadata": {
    "collapsed": false
   },
   "outputs": [
    {
     "name": "stdout",
     "output_type": "stream",
     "text": [
      "New number of people in the dataset: 156\n",
      "New number of people with NaN as their total payments: 31\n"
     ]
    }
   ],
   "source": [
    "print 'New number of people in the dataset: %d' % (len(enron_data) + 10)\n",
    "print 'New number of people with NaN as their total payments: %d' % (len(people_with_NaN_total_payments) + 10)"
   ]
  },
  {
   "cell_type": "code",
   "execution_count": 52,
   "metadata": {
    "collapsed": false
   },
   "outputs": [
    {
     "name": "stdout",
     "output_type": "stream",
     "text": [
      "New number of people in the dataset: 28\n",
      "New number of people with NaN as their total payments: 10\n"
     ]
    }
   ],
   "source": [
    "print 'New number of people in the dataset: %d' % (len(pois) + 10)\n",
    "print 'New number of people with NaN as their total payments: %d' % (len(pois_with_NaN_total_payments) + 10)"
   ]
  }
 ],
 "metadata": {
  "kernelspec": {
   "display_name": "Python 2",
   "language": "python",
   "name": "python2"
  },
  "language_info": {
   "codemirror_mode": {
    "name": "ipython",
    "version": 2
   },
   "file_extension": ".py",
   "mimetype": "text/x-python",
   "name": "python",
   "nbconvert_exporter": "python",
   "pygments_lexer": "ipython2",
   "version": "2.7.12"
  }
 },
 "nbformat": 4,
 "nbformat_minor": 2
}
