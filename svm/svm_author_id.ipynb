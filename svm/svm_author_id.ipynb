{
 "cells": [
  {
   "cell_type": "markdown",
   "metadata": {},
   "source": [
    "# SVM"
   ]
  },
  {
   "cell_type": "markdown",
   "metadata": {},
   "source": [
    "This is the code to accompany the Lesson 2 (SVM) mini-project.\n",
    "\n",
    "Use a SVM to identify emails from the Enron corpus by their authors:    \n",
    "Sara has label 0\n",
    "Chris has label 1"
   ]
  },
  {
   "cell_type": "code",
   "execution_count": 1,
   "metadata": {
    "collapsed": false
   },
   "outputs": [
    {
     "name": "stderr",
     "output_type": "stream",
     "text": [
      "/usr/local/lib/python2.7/dist-packages/sklearn/cross_validation.py:44: DeprecationWarning: This module was deprecated in version 0.18 in favor of the model_selection module into which all the refactored classes and functions are moved. Also note that the interface of the new CV iterators are different from that of this module. This module will be removed in 0.20.\n",
      "  \"This module will be removed in 0.20.\", DeprecationWarning)\n"
     ]
    }
   ],
   "source": [
    "import sys\n",
    "from time import time\n",
    "sys.path.append(\"../tools/\")\n",
    "from email_preprocess import preprocess"
   ]
  },
  {
   "cell_type": "code",
   "execution_count": 2,
   "metadata": {
    "collapsed": false
   },
   "outputs": [
    {
     "name": "stdout",
     "output_type": "stream",
     "text": [
      "no. of Chris training emails: 7936\n",
      "no. of Sara training emails: 7884\n"
     ]
    }
   ],
   "source": [
    "### features_train and features_test are the features for the training\n",
    "### and testing datasets, respectively\n",
    "### labels_train and labels_test are the corresponding item labels\n",
    "features_train, features_test, labels_train, labels_test = preprocess()"
   ]
  },
  {
   "cell_type": "code",
   "execution_count": 3,
   "metadata": {
    "collapsed": true
   },
   "outputs": [],
   "source": [
    "from sklearn.svm import SVC"
   ]
  },
  {
   "cell_type": "code",
   "execution_count": 4,
   "metadata": {
    "collapsed": true
   },
   "outputs": [],
   "source": [
    "clf = SVC(kernel='linear')"
   ]
  },
  {
   "cell_type": "code",
   "execution_count": 5,
   "metadata": {
    "collapsed": false
   },
   "outputs": [
    {
     "name": "stdout",
     "output_type": "stream",
     "text": [
      "training time: 179.855 s\n"
     ]
    }
   ],
   "source": [
    "t0 = time()\n",
    "clf.fit(features_train, labels_train)\n",
    "print \"training time:\", round(time()-t0, 3), \"s\""
   ]
  },
  {
   "cell_type": "code",
   "execution_count": 6,
   "metadata": {
    "collapsed": false
   },
   "outputs": [
    {
     "name": "stdout",
     "output_type": "stream",
     "text": [
      "SVM Score: 0.984073\n",
      "prediction time: 17.17 s\n"
     ]
    }
   ],
   "source": [
    "t0 = time()\n",
    "print 'SVM Score: %f' % clf.score(features_test, labels_test)\n",
    "print \"prediction time:\", round(time()-t0, 3), \"s\""
   ]
  },
  {
   "cell_type": "markdown",
   "metadata": {},
   "source": [
    "### Slicing the training set to 1% of its size"
   ]
  },
  {
   "cell_type": "code",
   "execution_count": 7,
   "metadata": {
    "collapsed": true
   },
   "outputs": [],
   "source": [
    "features_train = features_train[:len(features_train)/100]\n",
    "labels_train = labels_train[:len(labels_train)/100]"
   ]
  },
  {
   "cell_type": "code",
   "execution_count": 8,
   "metadata": {
    "collapsed": true
   },
   "outputs": [],
   "source": [
    "clf = SVC(kernel='linear')"
   ]
  },
  {
   "cell_type": "code",
   "execution_count": 9,
   "metadata": {
    "collapsed": false
   },
   "outputs": [
    {
     "name": "stdout",
     "output_type": "stream",
     "text": [
      "training time: 0.128 s\n"
     ]
    }
   ],
   "source": [
    "t0 = time()\n",
    "clf.fit(features_train, labels_train)\n",
    "print \"training time:\", round(time()-t0, 3), \"s\""
   ]
  },
  {
   "cell_type": "code",
   "execution_count": 10,
   "metadata": {
    "collapsed": false
   },
   "outputs": [
    {
     "name": "stdout",
     "output_type": "stream",
     "text": [
      "SVM Score after slicing: 0.884528\n",
      "prediction time: 1.008 s\n"
     ]
    }
   ],
   "source": [
    "t0 = time()\n",
    "print 'SVM Score after slicing: %f' % clf.score(features_test, labels_test)\n",
    "print \"prediction time:\", round(time()-t0, 3), \"s\""
   ]
  },
  {
   "cell_type": "markdown",
   "metadata": {},
   "source": [
    "### Using RBF kernel"
   ]
  },
  {
   "cell_type": "code",
   "execution_count": 13,
   "metadata": {
    "collapsed": true
   },
   "outputs": [],
   "source": [
    "clf = SVC(kernel='rbf')"
   ]
  },
  {
   "cell_type": "code",
   "execution_count": 14,
   "metadata": {
    "collapsed": false
   },
   "outputs": [
    {
     "name": "stdout",
     "output_type": "stream",
     "text": [
      "training time: 0.156 s\n"
     ]
    }
   ],
   "source": [
    "t0 = time()\n",
    "clf.fit(features_train, labels_train)\n",
    "print \"training time:\", round(time()-t0, 3), \"s\""
   ]
  },
  {
   "cell_type": "code",
   "execution_count": 15,
   "metadata": {
    "collapsed": false
   },
   "outputs": [
    {
     "name": "stdout",
     "output_type": "stream",
     "text": [
      "SVM Score after using rfb: 0.616041\n",
      "prediction time: 1.183 s\n"
     ]
    }
   ],
   "source": [
    "t0 = time()\n",
    "print 'SVM Score after using rfb: %f' % clf.score(features_test, labels_test)\n",
    "print \"prediction time:\", round(time()-t0, 3), \"s\""
   ]
  },
  {
   "cell_type": "markdown",
   "metadata": {},
   "source": [
    "### Optimizing C parameter"
   ]
  },
  {
   "cell_type": "code",
   "execution_count": 18,
   "metadata": {
    "collapsed": false
   },
   "outputs": [
    {
     "name": "stdout",
     "output_type": "stream",
     "text": [
      "training time: 0.147 s\n",
      "SVM Score with C=10: 0.616041\n",
      "prediction time: 1.195 s\n",
      "--------------------------------------------------\n",
      "training time: 0.109 s\n",
      "SVM Score with C=100: 0.616041\n",
      "prediction time: 1.242 s\n",
      "--------------------------------------------------\n",
      "training time: 0.098 s\n",
      "SVM Score with C=1000: 0.821388\n",
      "prediction time: 1.08 s\n",
      "--------------------------------------------------\n",
      "training time: 0.097 s\n",
      "SVM Score with C=10000: 0.892491\n",
      "prediction time: 0.92 s\n",
      "--------------------------------------------------\n"
     ]
    }
   ],
   "source": [
    "for c in [10, 100, 1000, 10000]:\n",
    "    clf = SVC(kernel='rbf', C=c)\n",
    "    \n",
    "    t0 = time()\n",
    "    clf.fit(features_train, labels_train)\n",
    "    print \"training time:\", round(time()-t0, 3), \"s\"\n",
    "    \n",
    "    t0 = time()\n",
    "    print 'SVM Score with C=%d: %f' % (c, clf.score(features_test, labels_test))\n",
    "    print \"prediction time:\", round(time()-t0, 3), \"s\"\n",
    "    \n",
    "    print '-' * 50"
   ]
  },
  {
   "cell_type": "markdown",
   "metadata": {},
   "source": [
    "### Using SVM with RBF kernel and optimized value for C on the full training set"
   ]
  },
  {
   "cell_type": "code",
   "execution_count": 21,
   "metadata": {
    "collapsed": false
   },
   "outputs": [
    {
     "name": "stdout",
     "output_type": "stream",
     "text": [
      "no. of Chris training emails: 7936\n",
      "no. of Sara training emails: 7884\n"
     ]
    }
   ],
   "source": [
    "features_train, features_test, labels_train, labels_test = preprocess()"
   ]
  },
  {
   "cell_type": "code",
   "execution_count": 22,
   "metadata": {
    "collapsed": false
   },
   "outputs": [
    {
     "name": "stdout",
     "output_type": "stream",
     "text": [
      "training time: 107.814 s\n",
      "The Score of SVM with RBF kernel and C=10000: 0.990899\n",
      "prediction time: 10.829 s\n"
     ]
    }
   ],
   "source": [
    "c = 10000\n",
    "clf = SVC(kernel='rbf', C=c)\n",
    "\n",
    "t0 = time()\n",
    "clf.fit(features_train, labels_train)\n",
    "print \"training time:\", round(time()-t0, 3), \"s\"\n",
    "\n",
    "t0 = time()\n",
    "print 'The Score of SVM with RBF kernel and C=%d: %f' % (c, clf.score(features_test, labels_test))\n",
    "print \"prediction time:\", round(time()-t0, 3), \"s\""
   ]
  },
  {
   "cell_type": "markdown",
   "metadata": {},
   "source": [
    "### Finding predicted labels for some of the points in the training set"
   ]
  },
  {
   "cell_type": "code",
   "execution_count": 23,
   "metadata": {
    "collapsed": true
   },
   "outputs": [],
   "source": [
    "features_train = features_train[:len(features_train)/100]\n",
    "labels_train = labels_train[:len(labels_train)/100]"
   ]
  },
  {
   "cell_type": "code",
   "execution_count": 24,
   "metadata": {
    "collapsed": false
   },
   "outputs": [
    {
     "name": "stdout",
     "output_type": "stream",
     "text": [
      "training time: 0.11 s\n",
      "prediction time: 0.897 s\n"
     ]
    }
   ],
   "source": [
    "c = 10000\n",
    "clf = SVC(kernel='rbf', C=c)\n",
    "\n",
    "t0 = time()\n",
    "clf.fit(features_train, labels_train)\n",
    "print \"training time:\", round(time()-t0, 3), \"s\"\n",
    "\n",
    "t0 = time()\n",
    "predictions = clf.predict(features_test)\n",
    "print \"prediction time:\", round(time()-t0, 3), \"s\""
   ]
  },
  {
   "cell_type": "code",
   "execution_count": 26,
   "metadata": {
    "collapsed": false
   },
   "outputs": [
    {
     "name": "stdout",
     "output_type": "stream",
     "text": [
      "predictions[10] = Chris(1)\n",
      "predictions[26] = Sara(0)\n",
      "predictions[50] = Chris(1)\n"
     ]
    }
   ],
   "source": [
    "for point in [10, 26, 50]:\n",
    "    print 'predictions[%d] = %s(%d)' % (point, 'Chris' if predictions[point] == 1 else 'Sara', predictions[point])"
   ]
  },
  {
   "cell_type": "markdown",
   "metadata": {},
   "source": [
    "### How many Chris emails predicted?"
   ]
  },
  {
   "cell_type": "code",
   "execution_count": 27,
   "metadata": {
    "collapsed": false
   },
   "outputs": [
    {
     "name": "stdout",
     "output_type": "stream",
     "text": [
      "no. of Chris training emails: 7936\n",
      "no. of Sara training emails: 7884\n"
     ]
    }
   ],
   "source": [
    "features_train, features_test, labels_train, labels_test = preprocess()"
   ]
  },
  {
   "cell_type": "code",
   "execution_count": 28,
   "metadata": {
    "collapsed": false
   },
   "outputs": [
    {
     "name": "stdout",
     "output_type": "stream",
     "text": [
      "training time: 108.859 s\n",
      "prediction time: 10.84 s\n"
     ]
    }
   ],
   "source": [
    "c = 10000\n",
    "clf = SVC(kernel='rbf', C=c)\n",
    "\n",
    "t0 = time()\n",
    "clf.fit(features_train, labels_train)\n",
    "print \"training time:\", round(time()-t0, 3), \"s\"\n",
    "\n",
    "t0 = time()\n",
    "predictions = clf.predict(features_test)\n",
    "print \"prediction time:\", round(time()-t0, 3), \"s\""
   ]
  },
  {
   "cell_type": "code",
   "execution_count": 29,
   "metadata": {
    "collapsed": false
   },
   "outputs": [
    {
     "name": "stdout",
     "output_type": "stream",
     "text": [
      "Number of Chris emails predicted: 877\n"
     ]
    }
   ],
   "source": [
    "print 'Number of Chris emails predicted: %d' % sum(predictions == 1)"
   ]
  }
 ],
 "metadata": {
  "kernelspec": {
   "display_name": "Python 2",
   "language": "python",
   "name": "python2"
  },
  "language_info": {
   "codemirror_mode": {
    "name": "ipython",
    "version": 2
   },
   "file_extension": ".py",
   "mimetype": "text/x-python",
   "name": "python",
   "nbconvert_exporter": "python",
   "pygments_lexer": "ipython2",
   "version": "2.7.12"
  }
 },
 "nbformat": 4,
 "nbformat_minor": 2
}
